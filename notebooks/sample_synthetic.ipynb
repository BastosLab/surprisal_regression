{
 "cells": [
  {
   "cell_type": "code",
   "execution_count": 1,
   "id": "c23ee8b4-0dfa-41eb-b05e-9f83331cff13",
   "metadata": {},
   "outputs": [
    {
     "name": "stdout",
     "output_type": "stream",
     "text": [
      "/home/eli/AnacondaProjects/surprisal_regression\n"
     ]
    }
   ],
   "source": [
    "%cd .."
   ]
  },
  {
   "cell_type": "code",
   "execution_count": 2,
   "id": "05e01a5a-e6dc-43b5-bf28-d388b107aaf7",
   "metadata": {},
   "outputs": [],
   "source": [
    "import math\n",
    "import matplotlib.pyplot as plt\n",
    "import numpy as np\n",
    "import pyro\n",
    "import torch\n",
    "import torch.nn as nn\n",
    "import torch.nn.functional as F"
   ]
  },
  {
   "cell_type": "code",
   "execution_count": 3,
   "id": "f1cb4db0-90d6-4f00-8fb7-a072c7aed6f5",
   "metadata": {},
   "outputs": [],
   "source": [
    "from src.models.components.linear_regression import TrialwiseLinearRegression"
   ]
  },
  {
   "cell_type": "code",
   "execution_count": 4,
   "id": "94218e7c-255e-4bcd-8e97-5f7ef0969000",
   "metadata": {},
   "outputs": [],
   "source": [
    "SYNTHETIC_REGRESSORS = torch.tensor([[\n",
    "    [1, 0, 0, 0, -math.log2(0.95), 0, -math.log2(0.95)], # 45-degree orientation, no repetitions, null surprisal\n",
    "    [1, 0, 1, 0, -math.log2(0.95), 0, -math.log2(0.95) * 2], # 45-degree orientation, 1 repetition, null surprisal\n",
    "    [1, 0, 2, 0, -math.log2(0.95), 0, -math.log2(0.95) * 3], # 45-degree orientation, 2 repetitions, null surprisal\n",
    "    [0, 1, 0, -math.log2(0.8), -math.log2(0.05), -math.log2(0.8), -math.log2(0.05)], # 135-degree orientation, no repetitions, mild surprisal\n",
    "], [\n",
    "    [1, 0, 0, 0, -math.log2(0.95), 0, -math.log2(0.95)], # 45-degree orientation, no repetitions, null surprisal\n",
    "    [1, 0, 1, 0, -math.log2(0.95), 0, -math.log2(0.95) * 2], # 45-degree orientation, 1 repetition, null surprisal\n",
    "    [1, 0, 2, 0, -math.log2(0.95), 0, -math.log2(0.95) * 3], # 45-degree orientation, 2 repetitions, null surprisal\n",
    "    [1, 0, 3, -math.log2(0.2), -math.log2(0.95), -math.log2(0.2), -math.log2(0.95) * 4], # 135-degree orientation, 3 repetitions, greater surprisal\n",
    "], [\n",
    "    [1, 0, 0, -math.log2(0.5), -math.log2(0.5), 1., 1.], # 45-degree orientation, no repetitions, uniform surprisal\n",
    "    [1, 0, 1, -math.log2(0.5), -math.log2(0.5), 2., 2.], # 45-degree orientation, 1 repetition, uniform surprisal\n",
    "    [0, 1, 0, -math.log2(0.5), -math.log2(0.5), 3., 3.], # 135-degree orientation, no repetitions, uniform surprisal\n",
    "    [1, 0, 0, -math.log2(0.5), -math.log2(0.5), 4., 4.] # 45-degree orientation, no repetitions, uniform surprisal\n",
    "], [\n",
    "    [1, 0, 0, -math.log2(1.), -math.log2(0.5), -math.log2(1.), 1.], # 45-degree orientation, no repetitions, random surprisal\n",
    "    [1, 0, 1, -math.log2(1.), -math.log2(0.5), -math.log2(1.), 2.], # 45-degree orientation, 1 repetition, null surprisal\n",
    "    [1, 0, 2, -math.log2(1.), -math.log2(0.5), -math.log2(1.), 3.], # 45-degree orientation, 1 repetition, null surprisal\n",
    "    [1, 0, 3, -math.log2(1.), -math.log2(0.5), -math.log2(1.), 4.], # 45-degree orientation, 1 repetition, null surprisal\n",
    "]])"
   ]
  },
  {
   "cell_type": "code",
   "execution_count": 5,
   "id": "b75e20ba-17e4-4334-9520-3da01304e7a5",
   "metadata": {},
   "outputs": [
    {
     "data": {
      "text/plain": [
       "torch.Size([4, 4, 7])"
      ]
     },
     "execution_count": 5,
     "metadata": {},
     "output_type": "execute_result"
    }
   ],
   "source": [
    "SYNTHETIC_REGRESSORS.shape"
   ]
  },
  {
   "cell_type": "code",
   "execution_count": 6,
   "id": "54766309-03ef-4a13-9762-39832a3339df",
   "metadata": {},
   "outputs": [],
   "source": [
    "generative = TrialwiseLinearRegression(num_regressors=13, num_stimuli=4, ablations=['surprise'])"
   ]
  },
  {
   "cell_type": "code",
   "execution_count": 7,
   "id": "5fb03254-5a0e-454e-bd38-2eb7661656d6",
   "metadata": {},
   "outputs": [],
   "source": [
    "generative.baseline_p_loc = nn.Parameter(torch.ones(1) * 2)\n",
    "generative.baseline_p_log_scale = nn.Parameter(torch.zeros(1))\n",
    "\n",
    "generative.repetition_p_concentration = nn.Parameter(torch.ones(1))\n",
    "generative.repetition_p_rate = nn.Parameter(torch.ones(1) * 2)\n",
    "\n",
    "generative.selectivity_p_concentration = nn.Parameter(torch.ones(1) * 5)\n",
    "generative.selectivity_p_rate = nn.Parameter(torch.ones(1))"
   ]
  },
  {
   "cell_type": "code",
   "execution_count": 8,
   "id": "75b3e6a0-556d-4359-95c4-2449275bedf4",
   "metadata": {},
   "outputs": [],
   "source": [
    "SYNTHETIC_SAMPLES = {\n",
    "    \"go\": [],\n",
    "    \"lo\": [],\n",
    "    \"rndctrl\": [],\n",
    "    \"seqctrl\": []\n",
    "}"
   ]
  },
  {
   "cell_type": "code",
   "execution_count": 9,
   "id": "67033274-39df-4b17-aee9-b740be375c24",
   "metadata": {},
   "outputs": [],
   "source": [
    "with torch.no_grad():\n",
    "    while len(SYNTHETIC_SAMPLES[\"go\"]) < 5000:\n",
    "        with pyro.plate_stack(\"synthetic\", (100, 4)):\n",
    "            examples = generative.model(None, SYNTHETIC_REGRESSORS)\n",
    "        if len(SYNTHETIC_SAMPLES[\"go\"]) > 0:\n",
    "            SYNTHETIC_SAMPLES[\"lo\"] = torch.cat((SYNTHETIC_SAMPLES[\"lo\"], examples[:, 0, :, :]), dim=0)\n",
    "            SYNTHETIC_SAMPLES[\"go\"] = torch.cat((SYNTHETIC_SAMPLES[\"go\"], examples[:, 1, :, :]), dim=0)\n",
    "            SYNTHETIC_SAMPLES[\"rndctrl\"] = torch.cat((SYNTHETIC_SAMPLES[\"rndctrl\"], examples[:, 2, :, :]), dim=0)\n",
    "            SYNTHETIC_SAMPLES[\"seqctrl\"] = torch.cat((SYNTHETIC_SAMPLES[\"seqctrl\"], examples[:, 3, :, :]), dim=0)\n",
    "        else:\n",
    "            SYNTHETIC_SAMPLES[\"lo\"] = examples[:, 0, :, :]\n",
    "            SYNTHETIC_SAMPLES[\"go\"] = examples[:, 1, :, :]\n",
    "            SYNTHETIC_SAMPLES[\"rndctrl\"] = examples[:, 2, :, :]\n",
    "            SYNTHETIC_SAMPLES[\"seqctrl\"] = examples[:, 3, :, :]"
   ]
  },
  {
   "cell_type": "code",
   "execution_count": 10,
   "id": "545f7882-bffa-408e-b298-f66c7e91b275",
   "metadata": {},
   "outputs": [
    {
     "data": {
      "text/plain": [
       "torch.Size([5000, 4, 1])"
      ]
     },
     "execution_count": 10,
     "metadata": {},
     "output_type": "execute_result"
    }
   ],
   "source": [
    "SYNTHETIC_SAMPLES[\"lo\"].shape"
   ]
  },
  {
   "cell_type": "code",
   "execution_count": 11,
   "id": "04924e8a-80e1-4ca6-9a28-646c1b3ca64f",
   "metadata": {},
   "outputs": [],
   "source": [
    "torch.save((SYNTHETIC_REGRESSORS, SYNTHETIC_SAMPLES), 'data/synthetic_adaptation_glo.pt')"
   ]
  },
  {
   "cell_type": "code",
   "execution_count": 12,
   "id": "574ea660-3543-45c3-95c7-c8a424ca3405",
   "metadata": {},
   "outputs": [
    {
     "name": "stderr",
     "output_type": "stream",
     "text": [
      "/tmp/ipykernel_332195/129410465.py:22: UserWarning: FigureCanvasAgg is non-interactive, and thus cannot be shown\n",
      "  fig.show()\n"
     ]
    },
    {
     "data": {
      "image/png": "[encoded data removed]",
      "text/plain": [
       "<Figure size 640x480 with 4 Axes>"
      ]
     },
     "metadata": {},
     "output_type": "display_data"
    }
   ],
   "source": [
    "fig, axes = plt.subplots(nrows=2, ncols=2, layout=\"constrained\")\n",
    "CONDITION_COLORS = {\n",
    "    \"lo\": ['b', 'b', 'b', 'r'],\n",
    "    \"go\": ['b', 'b', 'b', 'r'],\n",
    "    \"rndctrl\": ['b', 'g', 'y', 'r'],\n",
    "    \"seqctrl\": ['b', 'b', 'b', 'b'],\n",
    "}\n",
    "CONDITION_NAMES = {\n",
    "    \"lo\": \"Local Oddball\",\n",
    "    \"go\": \"Global Oddball\",\n",
    "    \"rndctrl\": \"Random Control\",\n",
    "    \"seqctrl\": \"Sequence Control\"\n",
    "}\n",
    "\n",
    "for condition, ax in zip([\"lo\", \"go\", \"rndctrl\", \"seqctrl\"], list(axes.flatten())):\n",
    "    xs = np.arange(1, 4+1)\n",
    "    ax.bar(xs, SYNTHETIC_SAMPLES[condition].mean(dim=0).squeeze().numpy(), color=CONDITION_COLORS[condition], tick_label=[\"P1\", \"P2\", 'P3', 'P4'])\n",
    "    ax.set_title(CONDITION_NAMES[condition])\n",
    "\n",
    "fig.suptitle('Average simulated MUAe per presentation')\n",
    "fig.savefig(\"synthetic_adaptation_presentations.pdf\", format='pdf', bbox_inches='tight')\n",
    "fig.show()"
   ]
  },
  {
   "cell_type": "code",
   "execution_count": 13,
   "id": "034f3749-0657-4863-b5d2-222779dde1eb",
   "metadata": {},
   "outputs": [],
   "source": [
    "generative = TrialwiseLinearRegression(num_regressors=13, num_stimuli=4)"
   ]
  },
  {
   "cell_type": "code",
   "execution_count": 14,
   "id": "fdf58f47-db13-419c-8999-f1ef0ad02660",
   "metadata": {},
   "outputs": [],
   "source": [
    "generative.baseline_p_loc = nn.Parameter(torch.ones(1) * 2)\n",
    "generative.baseline_p_log_scale = nn.Parameter(torch.zeros(1))\n",
    "\n",
    "generative.repetition_p_concentration = nn.Parameter(torch.ones(1))\n",
    "generative.repetition_p_rate = nn.Parameter(torch.ones(1) * 2)\n",
    "\n",
    "generative.selectivity_p_concentration = nn.Parameter(torch.ones(1) * 5)\n",
    "generative.selectivity_p_rate = nn.Parameter(torch.ones(1))\n",
    "\n",
    "generative.surprise_p_concentration = nn.Parameter(torch.tensor([5.]))\n",
    "generative.surprise_p_rate = nn.Parameter(torch.tensor([5.]))"
   ]
  },
  {
   "cell_type": "code",
   "execution_count": 15,
   "id": "eb42be38-6b57-400a-b438-0547515f8eb8",
   "metadata": {},
   "outputs": [],
   "source": [
    "SYNTHETIC_SAMPLES = {\n",
    "    \"go\": [],\n",
    "    \"lo\": [],\n",
    "    \"rndctrl\": [],\n",
    "    \"seqctrl\": []\n",
    "}"
   ]
  },
  {
   "cell_type": "code",
   "execution_count": 16,
   "id": "cae044c1-bad6-48ad-a78c-7c2f4298abaf",
   "metadata": {},
   "outputs": [],
   "source": [
    "with torch.no_grad():\n",
    "    while len(SYNTHETIC_SAMPLES[\"go\"]) < 5000:\n",
    "        with pyro.plate_stack(\"synthetic\", (100, 4)):\n",
    "            examples = generative.model(None, SYNTHETIC_REGRESSORS)\n",
    "        if len(SYNTHETIC_SAMPLES[\"go\"]) > 0:\n",
    "            SYNTHETIC_SAMPLES[\"lo\"] = torch.cat((SYNTHETIC_SAMPLES[\"lo\"], examples[:, 0, :, :]), dim=0)\n",
    "            SYNTHETIC_SAMPLES[\"go\"] = torch.cat((SYNTHETIC_SAMPLES[\"go\"], examples[:, 1, :, :]), dim=0)\n",
    "            SYNTHETIC_SAMPLES[\"rndctrl\"] = torch.cat((SYNTHETIC_SAMPLES[\"rndctrl\"], examples[:, 2, :, :]), dim=0)\n",
    "            SYNTHETIC_SAMPLES[\"seqctrl\"] = torch.cat((SYNTHETIC_SAMPLES[\"seqctrl\"], examples[:, 3, :, :]), dim=0)\n",
    "        else:\n",
    "            SYNTHETIC_SAMPLES[\"lo\"] = examples[:, 0, :, :]\n",
    "            SYNTHETIC_SAMPLES[\"go\"] = examples[:, 1, :, :]\n",
    "            SYNTHETIC_SAMPLES[\"rndctrl\"] = examples[:, 2, :, :]\n",
    "            SYNTHETIC_SAMPLES[\"seqctrl\"] = examples[:, 3, :, :]"
   ]
  },
  {
   "cell_type": "code",
   "execution_count": 17,
   "id": "7097d4b5-d556-4f91-ab08-da0b45ce0a7d",
   "metadata": {},
   "outputs": [
    {
     "data": {
      "text/plain": [
       "torch.Size([5000, 4, 1])"
      ]
     },
     "execution_count": 17,
     "metadata": {},
     "output_type": "execute_result"
    }
   ],
   "source": [
    "SYNTHETIC_SAMPLES[\"lo\"].shape"
   ]
  },
  {
   "cell_type": "code",
   "execution_count": 18,
   "id": "3be312ee-fe44-4d8e-b578-beb939dce3f9",
   "metadata": {},
   "outputs": [],
   "source": [
    "torch.save((SYNTHETIC_REGRESSORS, SYNTHETIC_SAMPLES), 'data/synthetic_surprise_glo.pt')"
   ]
  },
  {
   "cell_type": "code",
   "execution_count": 19,
   "id": "1f1ee90e-235c-4dba-ad3b-d11c415167ef",
   "metadata": {},
   "outputs": [
    {
     "name": "stderr",
     "output_type": "stream",
     "text": [
      "/tmp/ipykernel_332195/3732472845.py:22: UserWarning: FigureCanvasAgg is non-interactive, and thus cannot be shown\n",
      "  fig.show()\n"
     ]
    },
    {
     "data": {
      "image/png": "[encoded data removed]",
      "text/plain": [
       "<Figure size 640x480 with 4 Axes>"
      ]
     },
     "metadata": {},
     "output_type": "display_data"
    }
   ],
   "source": [
    "fig, axes = plt.subplots(nrows=2, ncols=2, layout=\"constrained\")\n",
    "CONDITION_COLORS = {\n",
    "    \"lo\": ['b', 'b', 'b', 'r'],\n",
    "    \"go\": ['b', 'b', 'b', 'r'],\n",
    "    \"rndctrl\": ['b', 'g', 'y', 'r'],\n",
    "    \"seqctrl\": ['b', 'b', 'b', 'b'],\n",
    "}\n",
    "CONDITION_NAMES = {\n",
    "    \"lo\": \"Local Oddball\",\n",
    "    \"go\": \"Global Oddball\",\n",
    "    \"rndctrl\": \"Random Control\",\n",
    "    \"seqctrl\": \"Sequence Control\"\n",
    "}\n",
    "\n",
    "for condition, ax in zip([\"lo\", \"go\", \"rndctrl\", \"seqctrl\"], list(axes.flatten())):\n",
    "    xs = np.arange(1, 4+1)\n",
    "    ax.bar(xs, SYNTHETIC_SAMPLES[condition].mean(dim=0).squeeze().numpy(), color=CONDITION_COLORS[condition], tick_label=[\"P1\", \"P2\", 'P3', 'P4'])\n",
    "    ax.set_title(CONDITION_NAMES[condition])\n",
    "\n",
    "fig.suptitle('Average simulated MUAe per presentation')\n",
    "fig.savefig(\"synthetic_surprise_presentations.pdf\", format='pdf', bbox_inches='tight')\n",
    "fig.show()"
   ]
  },
  {
   "cell_type": "code",
   "execution_count": null,
   "id": "cfa7ab82-20c5-4124-a3b8-dc381f3c58ae",
   "metadata": {},
   "outputs": [],
   "source": []
  }
 ],
 "metadata": {
  "kernelspec": {
   "display_name": "Python [conda env:ephys] *",
   "language": "python",
   "name": "conda-env-ephys-py"
  },
  "language_info": {
   "codemirror_mode": {
    "name": "ipython",
    "version": 3
   },
   "file_extension": ".py",
   "mimetype": "text/x-python",
   "name": "python",
   "nbconvert_exporter": "python",
   "pygments_lexer": "ipython3",
   "version": "3.12.8"
  }
 },
 "nbformat": 4,
 "nbformat_minor": 5
}
