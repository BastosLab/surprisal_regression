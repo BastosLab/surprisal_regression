{
 "cells": [
  {
   "cell_type": "code",
   "execution_count": 1,
   "id": "c23ee8b4-0dfa-41eb-b05e-9f83331cff13",
   "metadata": {},
   "outputs": [
    {
     "name": "stdout",
     "output_type": "stream",
     "text": [
      "/home/eli/AnacondaProjects/surprisal_regression\n"
     ]
    }
   ],
   "source": [
    "%cd ../../.."
   ]
  },
  {
   "cell_type": "code",
   "execution_count": 2,
   "id": "05e01a5a-e6dc-43b5-bf28-d388b107aaf7",
   "metadata": {},
   "outputs": [],
   "source": [
    "import hydra\n",
    "import math\n",
    "import matplotlib.pyplot as plt\n",
    "from omegaconf import OmegaConf\n",
    "import pyro\n",
    "import torch\n",
    "import torch.nn as nn\n",
    "import torch.nn.functional as F\n",
    "from tqdm import tqdm"
   ]
  },
  {
   "cell_type": "code",
   "execution_count": 3,
   "id": "f1cb4db0-90d6-4f00-8fb7-a072c7aed6f5",
   "metadata": {},
   "outputs": [],
   "source": [
    "from src.models.components.linear_regression import TrialwiseLinearRegression\n",
    "import src.eval as evaluation"
   ]
  },
  {
   "cell_type": "code",
   "execution_count": 4,
   "id": "9c9702f7-ac7a-4306-b594-adaa70198cd0",
   "metadata": {},
   "outputs": [
    {
     "name": "stderr",
     "output_type": "stream",
     "text": [
      "[rank: 0] No logger configs found! Skipping...\n",
      "[striatum:3469111] shmem: mmap: an error occurred while determining whether or not /tmp/ompi.striatum.1000/jf.0/1604780032/shared_mem_cuda_pool.striatum could be created.\n",
      "[striatum:3469111] create_and_attach: unable to create shared memory BTL coordinating structure :: size 134217728 \n",
      "GPU available: True (cuda), used: True\n",
      "TPU available: False, using: 0 TPU cores\n",
      "HPU available: False, using: 0 HPUs\n",
      "Restoring states from the checkpoint path at logs/train/runs/2025-03-14_17-40-41/checkpoints/last.ckpt\n",
      "/home/eli/miniforge3/envs/ephys/lib/python3.12/site-packages/lightning/pytorch/trainer/call.py:277: Be aware that when using `ckpt_path`, callbacks used to create the checkpoint need to be provided during `Trainer` instantiation. Please add the following callbacks: [\"ModelCheckpoint{'monitor': 'val/loss', 'mode': 'min', 'every_n_train_steps': 0, 'every_n_epochs': 1, 'train_time_interval': None}\", \"EarlyStopping{'monitor': 'val/loss', 'mode': 'min'}\"].\n",
      "LOCAL_RANK: 0 - CUDA_VISIBLE_DEVICES: [0]\n",
      "Loaded model weights from the checkpoint at logs/train/runs/2025-03-14_17-40-41/checkpoints/last.ckpt\n",
      "/home/eli/miniforge3/envs/ephys/lib/python3.12/site-packages/lightning/pytorch/trainer/connectors/data_connector.py:425: The 'test_dataloader' does not have many workers which may be a bottleneck. Consider increasing the value of the `num_workers` argument` to `num_workers=47` in the `DataLoader` to improve performance.\n",
      "/home/eli/miniforge3/envs/ephys/lib/python3.12/site-packages/lightning/pytorch/utilities/data.py:123: Your `IterableDataset` has `__len__` defined. In combination with multi-process data loading (when num_workers > 1), `__len__` could be inaccurate if each worker is not configured independently to avoid having duplicate data.\n"
     ]
    },
    {
     "data": {
      "application/vnd.jupyter.widget-view+json": {
       "model_id": "a65f306e4c214b9fbf7d81f9cb71f5cd",
       "version_major": 2,
       "version_minor": 0
      },
      "text/plain": [
       "Testing: |                                                                                                    …"
      ]
     },
     "metadata": {},
     "output_type": "display_data"
    },
    {
     "data": {
      "text/html": [
       "<pre style=\"white-space:pre;overflow-x:auto;line-height:normal;font-family:Menlo,'DejaVu Sans Mono',consolas,'Courier New',monospace\">┏━━━━━━━━━━━━━━━━━━━━━━━━━━━┳━━━━━━━━━━━━━━━━━━━━━━━━━━━┓\n",
       "┃<span style=\"font-weight: bold\">        Test metric        </span>┃<span style=\"font-weight: bold\">       DataLoader 0        </span>┃\n",
       "┡━━━━━━━━━━━━━━━━━━━━━━━━━━━╇━━━━━━━━━━━━━━━━━━━━━━━━━━━┩\n",
       "│<span style=\"color: #008080; text-decoration-color: #008080\">     test/log_evidence     </span>│<span style=\"color: #800080; text-decoration-color: #800080\">       -607594.5625        </span>│\n",
       "│<span style=\"color: #008080; text-decoration-color: #008080\">         test/loss         </span>│<span style=\"color: #800080; text-decoration-color: #800080\">        1431608.125        </span>│\n",
       "└───────────────────────────┴───────────────────────────┘\n",
       "</pre>\n"
      ],
      "text/plain": [
       "┏━━━━━━━━━━━━━━━━━━━━━━━━━━━┳━━━━━━━━━━━━━━━━━━━━━━━━━━━┓\n",
       "┃\u001b[1m \u001b[0m\u001b[1m       Test metric       \u001b[0m\u001b[1m \u001b[0m┃\u001b[1m \u001b[0m\u001b[1m      DataLoader 0       \u001b[0m\u001b[1m \u001b[0m┃\n",
       "┡━━━━━━━━━━━━━━━━━━━━━━━━━━━╇━━━━━━━━━━━━━━━━━━━━━━━━━━━┩\n",
       "│\u001b[36m \u001b[0m\u001b[36m    test/log_evidence    \u001b[0m\u001b[36m \u001b[0m│\u001b[35m \u001b[0m\u001b[35m      -607594.5625       \u001b[0m\u001b[35m \u001b[0m│\n",
       "│\u001b[36m \u001b[0m\u001b[36m        test/loss        \u001b[0m\u001b[36m \u001b[0m│\u001b[35m \u001b[0m\u001b[35m       1431608.125       \u001b[0m\u001b[35m \u001b[0m│\n",
       "└───────────────────────────┴───────────────────────────┘\n"
      ]
     },
     "metadata": {},
     "output_type": "display_data"
    }
   ],
   "source": [
    "with hydra.initialize(version_base=\"1.3\", config_path=\"../../../configs\", job_name=\"eval\"):\n",
    "    cfg = hydra.compose(config_name=\"eval.yaml\", overrides=[\"ckpt_path=logs/train/runs/2025-03-14_17-40-41/checkpoints/last.ckpt\", \"data.session_path=/mnt/data/surprisal_coding/epoched/glo_mua_epoched_11.mat\",\n",
    "                        \"data.area=MST\", \"model.importance.ablations=['surprise','repetition']\"], return_hydra_config=True)\n",
    "    hydra.core.hydra_config.HydraConfig.instance().set_config(cfg)\n",
    "    _, objects = evaluation.evaluate(cfg)"
   ]
  },
  {
   "cell_type": "code",
   "execution_count": 5,
   "id": "bcb637c8-f4ab-4415-920b-fd06c972c336",
   "metadata": {},
   "outputs": [
    {
     "data": {
      "text/plain": [
       "tensor([0.4978, 0.5022], grad_fn=<DivBackward0>)"
      ]
     },
     "execution_count": 5,
     "metadata": {},
     "output_type": "execute_result"
    }
   ],
   "source": [
    "objects['model'].importance.angle_alpha"
   ]
  },
  {
   "cell_type": "code",
   "execution_count": 6,
   "id": "7d333401-e64f-4146-adba-56140e03e13f",
   "metadata": {},
   "outputs": [
    {
     "data": {
      "text/plain": [
       "tensor([1.0044, 1.0044], grad_fn=<ExpBackward0>)"
      ]
     },
     "execution_count": 6,
     "metadata": {},
     "output_type": "execute_result"
    }
   ],
   "source": [
    "objects['model'].importance.selectivity_q_log_scale.exp()"
   ]
  },
  {
   "cell_type": "code",
   "execution_count": 7,
   "id": "fad80c0a-7673-42cd-9889-b37709a8d739",
   "metadata": {},
   "outputs": [
    {
     "name": "stderr",
     "output_type": "stream",
     "text": [
      "8it [00:00, 19.01it/s]\n"
     ]
    }
   ],
   "source": [
    "with torch.no_grad():\n",
    "    originals = []\n",
    "    reconstructions = []\n",
    "    regressor = []\n",
    "    \n",
    "    for b, (muae, regressors) in tqdm(enumerate(objects['datamodule'].test_dataloader())):\n",
    "        _, predictions, _ = objects['model'].model_step((muae, regressors))\n",
    "    \n",
    "        originals.append(muae)\n",
    "        reconstructions.append(predictions.mean(dim=0))\n",
    "        regressor.append(regressors)\n",
    "\n",
    "    originals = torch.cat(originals, dim=0)\n",
    "    reconstructions = torch.cat(reconstructions, dim=0)\n",
    "    regressors = torch.cat(regressor, dim=0)"
   ]
  },
  {
   "cell_type": "code",
   "execution_count": 8,
   "id": "b6b52989-d79c-4d28-9c31-13a1b18e9152",
   "metadata": {},
   "outputs": [],
   "source": [
    "def lo_trials():\n",
    "    return torch.isclose(regressors[:, :, 3], -torch.tensor([[1, 1, 1, 0.8]], dtype=torch.double).log2()).all(dim=-1).argwhere().flatten(0, 1)\n",
    "\n",
    "def go_trials():\n",
    "    return torch.isclose(regressors[:, :, 3], -torch.tensor([[1, 1, 1, 0.2]], dtype=torch.double).log2()).all(dim=-1).argwhere().flatten(0, 1)\n",
    "\n",
    "def rndctrl_trials():\n",
    "    return torch.isclose(regressors[:, :, 3], -torch.tensor([[0.5, 0.5, 0.5, 0.5]], dtype=torch.double).log2()).all(dim=-1).argwhere().flatten(0, 1)\n",
    "\n",
    "def seqctrl_trials():\n",
    "    return torch.isclose(regressors[:, :, 3], -torch.tensor([[1., 1., 1., 1.]], dtype=torch.double).log2()).all(dim=-1).argwhere().flatten(0, 1)"
   ]
  },
  {
   "cell_type": "code",
   "execution_count": 9,
   "id": "ebc168c8-57a5-4e48-9cf1-a3ae3f1f489b",
   "metadata": {},
   "outputs": [],
   "source": [
    "def comparison_plot(trials):\n",
    "    heights = []\n",
    "    all_originals = originals[trials, :].mean(dim=0)\n",
    "    all_reconstructions = reconstructions[trials, :].mean(dim=0)\n",
    "\n",
    "    for p in range(4):\n",
    "        heights = heights + [all_originals[p].item(), all_reconstructions[p].item()]\n",
    "\n",
    "    plt.bar([\"P1\", \"P1'\", \"P2\", \"P2'\", \"P3\", \"P3'\", \"P4\", \"P4'\"], heights, color=[('b', 1.), ('b', 0.4), ('b', 1.), ('b', 0.4), ('b', 1.), ('b', 0.4), ('b', 1.), ('b', 0.4)])"
   ]
  },
  {
   "cell_type": "code",
   "execution_count": 10,
   "id": "d9624300-6438-4a4e-9624-e4755fc6bf25",
   "metadata": {},
   "outputs": [
    {
     "data": {
      "image/png": "[encoded data removed]",
      "text/plain": [
       "<Figure size 640x480 with 1 Axes>"
      ]
     },
     "metadata": {},
     "output_type": "display_data"
    }
   ],
   "source": [
    "comparison_plot(lo_trials())"
   ]
  },
  {
   "cell_type": "code",
   "execution_count": 11,
   "id": "0d4e2b41-12f2-4cf6-ab15-aa70f100abd2",
   "metadata": {},
   "outputs": [
    {
     "data": {
      "image/png": "[encoded data removed]",
      "text/plain": [
       "<Figure size 640x480 with 1 Axes>"
      ]
     },
     "metadata": {},
     "output_type": "display_data"
    }
   ],
   "source": [
    "comparison_plot(go_trials())"
   ]
  },
  {
   "cell_type": "code",
   "execution_count": 12,
   "id": "ddd08b5f-d538-4060-8090-9fbafd2fb25e",
   "metadata": {},
   "outputs": [
    {
     "data": {
      "image/png": "[encoded data removed]",
      "text/plain": [
       "<Figure size 640x480 with 1 Axes>"
      ]
     },
     "metadata": {},
     "output_type": "display_data"
    }
   ],
   "source": [
    "comparison_plot(rndctrl_trials())"
   ]
  },
  {
   "cell_type": "code",
   "execution_count": 13,
   "id": "fb6d3d02-8748-4534-a972-568ebc496a00",
   "metadata": {},
   "outputs": [
    {
     "data": {
      "image/png": "[encoded data removed]",
      "text/plain": [
       "<Figure size 640x480 with 1 Axes>"
      ]
     },
     "metadata": {},
     "output_type": "display_data"
    }
   ],
   "source": [
    "comparison_plot(seqctrl_trials())"
   ]
  },
  {
   "cell_type": "code",
   "execution_count": null,
   "id": "6edd5fa7-abd1-4a3d-b2ab-1583ed997cd4",
   "metadata": {},
   "outputs": [],
   "source": []
  }
 ],
 "metadata": {
  "kernelspec": {
   "display_name": "Python [conda env:ephys] *",
   "language": "python",
   "name": "conda-env-ephys-py"
  },
  "language_info": {
   "codemirror_mode": {
    "name": "ipython",
    "version": 3
   },
   "file_extension": ".py",
   "mimetype": "text/x-python",
   "name": "python",
   "nbconvert_exporter": "python",
   "pygments_lexer": "ipython3",
   "version": "3.12.8"
  }
 },
 "nbformat": 4,
 "nbformat_minor": 5
}
