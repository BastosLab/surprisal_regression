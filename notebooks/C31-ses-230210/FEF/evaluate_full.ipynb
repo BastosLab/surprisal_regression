{
 "cells": [
  {
   "cell_type": "code",
   "execution_count": 1,
   "id": "c23ee8b4-0dfa-41eb-b05e-9f83331cff13",
   "metadata": {},
   "outputs": [
    {
     "name": "stdout",
     "output_type": "stream",
     "text": [
      "/home/eli/AnacondaProjects/surprisal_regression\n"
     ]
    }
   ],
   "source": [
    "%cd ../../.."
   ]
  },
  {
   "cell_type": "code",
   "execution_count": 2,
   "id": "05e01a5a-e6dc-43b5-bf28-d388b107aaf7",
   "metadata": {},
   "outputs": [],
   "source": [
    "import hydra\n",
    "import math\n",
    "import matplotlib.pyplot as plt\n",
    "import numpy as np\n",
    "from omegaconf import OmegaConf\n",
    "import pyro\n",
    "import torch\n",
    "import torch.nn as nn\n",
    "import torch.nn.functional as F\n",
    "from tqdm import tqdm"
   ]
  },
  {
   "cell_type": "code",
   "execution_count": 3,
   "id": "f1cb4db0-90d6-4f00-8fb7-a072c7aed6f5",
   "metadata": {},
   "outputs": [],
   "source": [
    "from src.models.components.linear_regression import TrialwiseLinearRegression\n",
    "import src.eval as evaluation"
   ]
  },
  {
   "cell_type": "code",
   "execution_count": 4,
   "id": "9c9702f7-ac7a-4306-b594-adaa70198cd0",
   "metadata": {},
   "outputs": [
    {
     "name": "stderr",
     "output_type": "stream",
     "text": [
      "[rank: 0] No logger configs found! Skipping...\n",
      "[striatum:765609] shmem: mmap: an error occurred while determining whether or not /tmp/ompi.striatum.1000/jf.0/839516160/shared_mem_cuda_pool.striatum could be created.\n",
      "[striatum:765609] create_and_attach: unable to create shared memory BTL coordinating structure :: size 134217728 \n",
      "GPU available: True (cuda), used: True\n",
      "TPU available: False, using: 0 TPU cores\n",
      "HPU available: False, using: 0 HPUs\n",
      "Restoring states from the checkpoint path at logs/train/runs/2025-04-01_04-56-18/checkpoints/last.ckpt\n",
      "/home/eli/miniforge3/envs/ephys/lib/python3.12/site-packages/lightning/pytorch/trainer/call.py:277: Be aware that when using `ckpt_path`, callbacks used to create the checkpoint need to be provided during `Trainer` instantiation. Please add the following callbacks: [\"EarlyStopping{'monitor': 'val/loss', 'mode': 'min'}\", \"ModelCheckpoint{'monitor': 'val/loss', 'mode': 'min', 'every_n_train_steps': 0, 'every_n_epochs': 1, 'train_time_interval': None}\"].\n",
      "LOCAL_RANK: 0 - CUDA_VISIBLE_DEVICES: [0]\n",
      "Loaded model weights from the checkpoint at logs/train/runs/2025-04-01_04-56-18/checkpoints/last.ckpt\n",
      "/home/eli/miniforge3/envs/ephys/lib/python3.12/site-packages/lightning/pytorch/trainer/connectors/data_connector.py:425: The 'test_dataloader' does not have many workers which may be a bottleneck. Consider increasing the value of the `num_workers` argument` to `num_workers=47` in the `DataLoader` to improve performance.\n",
      "/home/eli/miniforge3/envs/ephys/lib/python3.12/site-packages/lightning/pytorch/utilities/data.py:123: Your `IterableDataset` has `__len__` defined. In combination with multi-process data loading (when num_workers > 1), `__len__` could be inaccurate if each worker is not configured independently to avoid having duplicate data.\n"
     ]
    },
    {
     "data": {
      "application/vnd.jupyter.widget-view+json": {
       "model_id": "a11b64fd6ea641e6ab3fd56c8a1d742f",
       "version_major": 2,
       "version_minor": 0
      },
      "text/plain": [
       "Testing: |                                                                                                    …"
      ]
     },
     "metadata": {},
     "output_type": "display_data"
    },
    {
     "data": {
      "text/html": [
       "<pre style=\"white-space:pre;overflow-x:auto;line-height:normal;font-family:Menlo,'DejaVu Sans Mono',consolas,'Courier New',monospace\">┏━━━━━━━━━━━━━━━━━━━━━━━━━━━┳━━━━━━━━━━━━━━━━━━━━━━━━━━━┓\n",
       "┃<span style=\"font-weight: bold\">        Test metric        </span>┃<span style=\"font-weight: bold\">       DataLoader 0        </span>┃\n",
       "┡━━━━━━━━━━━━━━━━━━━━━━━━━━━╇━━━━━━━━━━━━━━━━━━━━━━━━━━━┩\n",
       "│<span style=\"color: #008080; text-decoration-color: #008080\">     test/log_evidence     </span>│<span style=\"color: #800080; text-decoration-color: #800080\">        -7220.21875        </span>│\n",
       "│<span style=\"color: #008080; text-decoration-color: #008080\">    test/log_likelihood    </span>│<span style=\"color: #800080; text-decoration-color: #800080\">    -29.965970993041992    </span>│\n",
       "│<span style=\"color: #008080; text-decoration-color: #008080\">         test/loss         </span>│<span style=\"color: #800080; text-decoration-color: #800080\">      9681.7685546875      </span>│\n",
       "└───────────────────────────┴───────────────────────────┘\n",
       "</pre>\n"
      ],
      "text/plain": [
       "┏━━━━━━━━━━━━━━━━━━━━━━━━━━━┳━━━━━━━━━━━━━━━━━━━━━━━━━━━┓\n",
       "┃\u001b[1m \u001b[0m\u001b[1m       Test metric       \u001b[0m\u001b[1m \u001b[0m┃\u001b[1m \u001b[0m\u001b[1m      DataLoader 0       \u001b[0m\u001b[1m \u001b[0m┃\n",
       "┡━━━━━━━━━━━━━━━━━━━━━━━━━━━╇━━━━━━━━━━━━━━━━━━━━━━━━━━━┩\n",
       "│\u001b[36m \u001b[0m\u001b[36m    test/log_evidence    \u001b[0m\u001b[36m \u001b[0m│\u001b[35m \u001b[0m\u001b[35m       -7220.21875       \u001b[0m\u001b[35m \u001b[0m│\n",
       "│\u001b[36m \u001b[0m\u001b[36m   test/log_likelihood   \u001b[0m\u001b[36m \u001b[0m│\u001b[35m \u001b[0m\u001b[35m   -29.965970993041992   \u001b[0m\u001b[35m \u001b[0m│\n",
       "│\u001b[36m \u001b[0m\u001b[36m        test/loss        \u001b[0m\u001b[36m \u001b[0m│\u001b[35m \u001b[0m\u001b[35m     9681.7685546875     \u001b[0m\u001b[35m \u001b[0m│\n",
       "└───────────────────────────┴───────────────────────────┘\n"
      ]
     },
     "metadata": {},
     "output_type": "display_data"
    }
   ],
   "source": [
    "with hydra.initialize(version_base=\"1.3\", config_path=\"../../../configs\", job_name=\"eval\"):\n",
    "    cfg = hydra.compose(config_name=\"eval.yaml\", overrides=[\"ckpt_path=logs/train/runs/2025-04-01_04-56-18/checkpoints/last.ckpt\", \"data.session_path=/mnt/data/surprisal_coding/epoched/glo_mua_epoched_5.mat\",\n",
    "                        \"data.area=FEF\"], return_hydra_config=True)\n",
    "    hydra.core.hydra_config.HydraConfig.instance().set_config(cfg)\n",
    "    _, objects = evaluation.evaluate(cfg)"
   ]
  },
  {
   "cell_type": "code",
   "execution_count": 5,
   "id": "93c9e13d-1a7b-4deb-8259-6d3d1e4452fa",
   "metadata": {},
   "outputs": [
    {
     "name": "stderr",
     "output_type": "stream",
     "text": [
      "7it [00:00,  9.68it/s]\n"
     ]
    }
   ],
   "source": [
    "with torch.no_grad():\n",
    "    originals = []\n",
    "    reconstructions = []\n",
    "    regressor = []\n",
    "    rvs = {}\n",
    "    \n",
    "    for b, (muae, regressors) in tqdm(enumerate(objects['datamodule'].test_dataloader())):\n",
    "        _, predictions, _, trace = objects['model'].model_step((muae, regressors))\n",
    "    \n",
    "        originals.append(muae)\n",
    "        reconstructions.append(predictions.mean(dim=0))\n",
    "        regressor.append(regressors)\n",
    "        for rv in trace.nodes:\n",
    "            if trace.nodes[rv]['type'] == 'sample':\n",
    "                if rv in rvs:\n",
    "                    rvs[rv] = torch.cat((rvs[rv], trace.nodes[rv]['value']), dim=1)\n",
    "                else:\n",
    "                    rvs[rv] =  trace.nodes[rv]['value']\n",
    "\n",
    "\n",
    "    originals = torch.cat(originals, dim=0)\n",
    "    reconstructions = torch.cat(reconstructions, dim=0)\n",
    "    regressors = torch.cat(regressor, dim=0)"
   ]
  },
  {
   "cell_type": "code",
   "execution_count": 6,
   "id": "5a041ebf-3230-42b2-9ced-d6f7f50b858f",
   "metadata": {},
   "outputs": [],
   "source": [
    "def lo_trials():\n",
    "    return torch.isclose(regressors[:, :, 3], -torch.tensor([[1, 1, 1, 0.8]], dtype=torch.double).log2()).all(dim=-1).argwhere().flatten(0, 1)\n",
    "\n",
    "def go_trials():\n",
    "    return torch.isclose(regressors[:, :, 3], -torch.tensor([[1, 1, 1, 0.2]], dtype=torch.double).log2()).all(dim=-1).argwhere().flatten(0, 1)\n",
    "\n",
    "def rndctrl_trials():\n",
    "    return torch.isclose(regressors[:, :, 3], -torch.tensor([[0.5, 0.5, 0.5, 0.5]], dtype=torch.double).log2()).all(dim=-1).argwhere().flatten(0, 1)\n",
    "\n",
    "def seqctrl_trials():\n",
    "    return torch.isclose(regressors[:, :, 3], -torch.tensor([[1., 1., 1., 1.]], dtype=torch.double).log2()).all(dim=-1).argwhere().flatten(0, 1)"
   ]
  },
  {
   "cell_type": "code",
   "execution_count": 7,
   "id": "7c91243f-4598-4ade-aeb6-e5dc8f7e931b",
   "metadata": {},
   "outputs": [],
   "source": [
    "def comparison_plot(trials):\n",
    "    heights = []\n",
    "    all_originals = originals[trials, :].mean(dim=0)\n",
    "    all_reconstructions = reconstructions[trials, :].mean(dim=0)\n",
    "\n",
    "    for p in range(4):\n",
    "        heights = heights + [all_originals[p].item(), all_reconstructions[p].item()]\n",
    "\n",
    "    plt.bar([\"P1\", \"P1'\", \"P2\", \"P2'\", \"P3\", \"P3'\", \"P4\", \"P4'\"], heights, color=[('b', 1.), ('b', 0.4), ('b', 1.), ('b', 0.4), ('b', 1.), ('b', 0.4), ('b', 1.), ('b', 0.4)])"
   ]
  },
  {
   "cell_type": "code",
   "execution_count": 8,
   "id": "d350e040-fbee-4cc1-9448-0b1797194d68",
   "metadata": {},
   "outputs": [
    {
     "data": {
      "image/png": "[encoded data removed]",
      "text/plain": [
       "<Figure size 640x480 with 1 Axes>"
      ]
     },
     "metadata": {},
     "output_type": "display_data"
    }
   ],
   "source": [
    "comparison_plot(lo_trials())"
   ]
  },
  {
   "cell_type": "code",
   "execution_count": 9,
   "id": "7daab422-a011-40d4-8f44-9cb02bb7768b",
   "metadata": {},
   "outputs": [
    {
     "data": {
      "image/png": "[encoded data removed]",
      "text/plain": [
       "<Figure size 640x480 with 1 Axes>"
      ]
     },
     "metadata": {},
     "output_type": "display_data"
    }
   ],
   "source": [
    "comparison_plot(go_trials())"
   ]
  },
  {
   "cell_type": "code",
   "execution_count": 10,
   "id": "597015b0-14e6-42ba-9e40-ce6126c19a9e",
   "metadata": {},
   "outputs": [
    {
     "data": {
      "image/png": "[encoded data removed]",
      "text/plain": [
       "<Figure size 640x480 with 1 Axes>"
      ]
     },
     "metadata": {},
     "output_type": "display_data"
    }
   ],
   "source": [
    "comparison_plot(rndctrl_trials())"
   ]
  },
  {
   "cell_type": "code",
   "execution_count": 11,
   "id": "653572de-7271-4084-84ab-bb56e6f206c6",
   "metadata": {},
   "outputs": [
    {
     "data": {
      "image/png": "[encoded data removed]",
      "text/plain": [
       "<Figure size 640x480 with 1 Axes>"
      ]
     },
     "metadata": {},
     "output_type": "display_data"
    }
   ],
   "source": [
    "comparison_plot(seqctrl_trials())"
   ]
  },
  {
   "cell_type": "code",
   "execution_count": null,
   "id": "f6b24507-8386-4acf-8cb7-81ce92d0e59a",
   "metadata": {},
   "outputs": [],
   "source": []
  }
 ],
 "metadata": {
  "kernelspec": {
   "display_name": "Python [conda env:ephys] *",
   "language": "python",
   "name": "conda-env-ephys-py"
  },
  "language_info": {
   "codemirror_mode": {
    "name": "ipython",
    "version": 3
   },
   "file_extension": ".py",
   "mimetype": "text/x-python",
   "name": "python",
   "nbconvert_exporter": "python",
   "pygments_lexer": "ipython3",
   "version": "3.12.8"
  }
 },
 "nbformat": 4,
 "nbformat_minor": 5
}
